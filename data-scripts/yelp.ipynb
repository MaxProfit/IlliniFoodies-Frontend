{
 "cells": [
  {
   "cell_type": "code",
   "execution_count": 48,
   "metadata": {},
   "outputs": [],
   "source": [
    "from requests import get\n",
    "import pandas as pd\n",
    "import json\n",
    "\n",
    "\n",
    "API_KEY = json.load(open(\"../../../Documents/api_keys.json\", \"r\"))[\"yelp\"]\n",
    "\n",
    "response = get(\"https://api.yelp.com/v3/businesses/search\",\n",
    "                headers={\"Authorization\": \"Bearer \" + API_KEY},\n",
    "                params={\"location\": \"Urbana-Champaign\", \"limit\": 50})\n",
    "\n",
    "def parseCategories(categories):\n",
    "    tags = \"\"\n",
    "    for obj in categories:\n",
    "        tags += obj[\"alias\"] + \",\"\n",
    "    return tags[:len(tags) - 1]\n",
    "\n",
    "if response:\n",
    "    df = pd.DataFrame.from_dict(response.json()[\"businesses\"], orient=\"columns\")\n",
    "    \n",
    "    # clean up some of the data formats\n",
    "    df[\"address\"] = df[\"location\"].apply(lambda x: x[\"address1\"])\n",
    "    df[\"price\"] = df[\"price\"].apply(lambda x: len(x) * 10)\n",
    "    \n",
    "    # parse categories into an array of tags\n",
    "    df[\"keywords\"] = df[\"categories\"].apply(parseCategories)\n",
    "    \n",
    "    # get only the columns we need\n",
    "    df = df[[\"name\", \"phone\", \"address\", \"image_url\", \"price\", \"rating\", \"url\", \"keywords\"]]\n",
    "    \n",
    "    json.dump(df.to_dict(orient=\"records\"), open(\"../react-app/src/data/topPicks.json\", \"w\"))\n",
    "\n",
    "else:\n",
    "    print(\"NOT FOUND\")"
   ]
  },
  {
   "cell_type": "raw",
   "metadata": {},
   "source": []
  }
 ],
 "metadata": {
  "kernelspec": {
   "display_name": "Python 3",
   "language": "python",
   "name": "python3"
  },
  "language_info": {
   "codemirror_mode": {
    "name": "ipython",
    "version": 3
   },
   "file_extension": ".py",
   "mimetype": "text/x-python",
   "name": "python",
   "nbconvert_exporter": "python",
   "pygments_lexer": "ipython3",
   "version": "3.7.4"
  }
 },
 "nbformat": 4,
 "nbformat_minor": 2
}
