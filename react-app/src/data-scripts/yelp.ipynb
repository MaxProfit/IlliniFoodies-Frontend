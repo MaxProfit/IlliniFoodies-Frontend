{
 "cells": [
  {
   "cell_type": "code",
   "execution_count": 24,
   "metadata": {},
   "outputs": [
    {
     "name": "stdout",
     "output_type": "stream",
     "text": [
      "https://api.yelp.com/v3/businesses/search?location=Champaign\n"
     ]
    }
   ],
   "source": [
    "from requests import get\n",
    "import pandas as pd\n",
    "import json\n",
    "\n",
    "\n",
    "API_KEY = json.load(open(\"../../../../../Documents/api_keys.json\", \"r\"))[\"yelp\"]\n",
    "\n",
    "\n",
    "response = get(\"https://api.yelp.com/v3/businesses/search\",\n",
    "                headers={\"Authorization\": \"Bearer \" + API_KEY},\n",
    "                params={\"location\": \"Champaign\"})\n",
    "print(response.url)\n",
    "\n",
    "if response:\n",
    "    df = pd.DataFrame.from_dict(response.json()[\"businesses\"], orient=\"columns\")\n",
    "    topPicks = df.nlargest(8, columns=[\"rating\"])\n",
    "    json.dump(topPicks[[\"name\", \"image_url\", \"url\", \"rating\"]].to_dict(orient=\"records\"), open(\"../data/topPicks.json\", \"w\"))\n",
    "else:\n",
    "    print(\"NOT FOUND\")"
   ]
  },
  {
   "cell_type": "code",
   "execution_count": null,
   "metadata": {},
   "outputs": [],
   "source": []
  }
 ],
 "metadata": {
  "kernelspec": {
   "display_name": "Python 3",
   "language": "python",
   "name": "python3"
  },
  "language_info": {
   "codemirror_mode": {
    "name": "ipython",
    "version": 3
   },
   "file_extension": ".py",
   "mimetype": "text/x-python",
   "name": "python",
   "nbconvert_exporter": "python",
   "pygments_lexer": "ipython3",
   "version": "3.7.4"
  }
 },
 "nbformat": 4,
 "nbformat_minor": 2
}
